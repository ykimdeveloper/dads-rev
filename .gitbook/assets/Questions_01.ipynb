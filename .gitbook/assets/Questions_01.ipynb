{
    "metadata": {
        "kernelspec": {
            "name": "SQL",
            "display_name": "SQL",
            "language": "sql"
        },
        "language_info": {
            "name": "sql",
            "version": ""
        }
    },
    "nbformat_minor": 2,
    "nbformat": 4,
    "cells": [
        {
            "cell_type": "markdown",
            "source": [
                "List all tables"
            ],
            "metadata": {
                "azdata_cell_guid": "94a661a1-930b-4387-a3d1-99b4d9ce2568"
            },
            "attachments": {}
        },
        {
            "cell_type": "code",
            "source": [
                "SELECT\n",
                "  *\n",
                "FROM\n",
                "  SYSOBJECTS\n",
                "WHERE\n",
                "  xtype = 'U';\n",
                "GO"
            ],
            "metadata": {
                "azdata_cell_guid": "bf2abbed-b07d-43fc-af4f-a68789061f44",
                "language": "sql"
            },
            "outputs": [
                {
                    "output_type": "display_data",
                    "data": {
                        "text/html": "(12 rows affected)"
                    },
                    "metadata": {}
                },
                {
                    "output_type": "display_data",
                    "data": {
                        "text/html": "Total execution time: 00:00:00.808"
                    },
                    "metadata": {}
                },
                {
                    "output_type": "execute_result",
                    "execution_count": 4,
                    "data": {
                        "application/vnd.dataresource+json": {
                            "schema": {
                                "fields": [
                                    {
                                        "name": "name"
                                    },
                                    {
                                        "name": "id"
                                    },
                                    {
                                        "name": "xtype"
                                    },
                                    {
                                        "name": "uid"
                                    },
                                    {
                                        "name": "info"
                                    },
                                    {
                                        "name": "status"
                                    },
                                    {
                                        "name": "base_schema_ver"
                                    },
                                    {
                                        "name": "replinfo"
                                    },
                                    {
                                        "name": "parent_obj"
                                    },
                                    {
                                        "name": "crdate"
                                    },
                                    {
                                        "name": "ftcatid"
                                    },
                                    {
                                        "name": "schema_ver"
                                    },
                                    {
                                        "name": "stats_schema_ver"
                                    },
                                    {
                                        "name": "type"
                                    },
                                    {
                                        "name": "userstat"
                                    },
                                    {
                                        "name": "sysstat"
                                    },
                                    {
                                        "name": "indexdel"
                                    },
                                    {
                                        "name": "refdate"
                                    },
                                    {
                                        "name": "version"
                                    },
                                    {
                                        "name": "deltrig"
                                    },
                                    {
                                        "name": "instrig"
                                    },
                                    {
                                        "name": "updtrig"
                                    },
                                    {
                                        "name": "seltrig"
                                    },
                                    {
                                        "name": "category"
                                    },
                                    {
                                        "name": "cache"
                                    }
                                ]
                            },
                            "data": [
                                {
                                    "0": "SalesPeople",
                                    "1": "2099048",
                                    "2": "U ",
                                    "3": "1",
                                    "4": "0",
                                    "5": "0",
                                    "6": "0",
                                    "7": "0",
                                    "8": "0",
                                    "9": "2022-05-29 10:08:00.383",
                                    "10": "0",
                                    "11": "0",
                                    "12": "0",
                                    "13": "U ",
                                    "14": "1",
                                    "15": "3",
                                    "16": "0",
                                    "17": "2022-05-29 10:08:00.383",
                                    "18": "0",
                                    "19": "0",
                                    "20": "0",
                                    "21": "0",
                                    "22": "0",
                                    "23": "0",
                                    "24": "0"
                                },
                                {
                                    "0": "Studios",
                                    "1": "18099105",
                                    "2": "U ",
                                    "3": "1",
                                    "4": "0",
                                    "5": "0",
                                    "6": "0",
                                    "7": "0",
                                    "8": "0",
                                    "9": "2022-05-29 10:08:00.520",
                                    "10": "0",
                                    "11": "0",
                                    "12": "0",
                                    "13": "U ",
                                    "14": "1",
                                    "15": "3",
                                    "16": "0",
                                    "17": "2022-05-29 10:08:00.520",
                                    "18": "0",
                                    "19": "0",
                                    "20": "0",
                                    "21": "0",
                                    "22": "0",
                                    "23": "0",
                                    "24": "0"
                                },
                                {
                                    "0": "Titles",
                                    "1": "34099162",
                                    "2": "U ",
                                    "3": "1",
                                    "4": "0",
                                    "5": "0",
                                    "6": "0",
                                    "7": "0",
                                    "8": "0",
                                    "9": "2022-05-29 10:08:00.610",
                                    "10": "0",
                                    "11": "0",
                                    "12": "0",
                                    "13": "U ",
                                    "14": "1",
                                    "15": "3",
                                    "16": "0",
                                    "17": "2022-05-29 10:08:00.610",
                                    "18": "0",
                                    "19": "0",
                                    "20": "0",
                                    "21": "0",
                                    "22": "0",
                                    "23": "0",
                                    "24": "0"
                                },
                                {
                                    "0": "Tracks",
                                    "1": "50099219",
                                    "2": "U ",
                                    "3": "1",
                                    "4": "0",
                                    "5": "0",
                                    "6": "0",
                                    "7": "0",
                                    "8": "0",
                                    "9": "2022-05-29 10:08:00.687",
                                    "10": "0",
                                    "11": "0",
                                    "12": "0",
                                    "13": "U ",
                                    "14": "1",
                                    "15": "3",
                                    "16": "0",
                                    "17": "2022-05-29 10:08:00.687",
                                    "18": "0",
                                    "19": "0",
                                    "20": "0",
                                    "21": "0",
                                    "22": "0",
                                    "23": "0",
                                    "24": "0"
                                },
                                {
                                    "0": "XrefArtistsMembers",
                                    "1": "66099276",
                                    "2": "U ",
                                    "3": "1",
                                    "4": "0",
                                    "5": "0",
                                    "6": "0",
                                    "7": "0",
                                    "8": "0",
                                    "9": "2022-05-29 10:08:01.013",
                                    "10": "0",
                                    "11": "0",
                                    "12": "0",
                                    "13": "U ",
                                    "14": "1",
                                    "15": "3",
                                    "16": "0",
                                    "17": "2022-05-29 10:08:01.013",
                                    "18": "0",
                                    "19": "0",
                                    "20": "0",
                                    "21": "0",
                                    "22": "0",
                                    "23": "0",
                                    "24": "0"
                                },
                                {
                                    "0": "Survey",
                                    "1": "2005582183",
                                    "2": "U ",
                                    "3": "1",
                                    "4": "0",
                                    "5": "0",
                                    "6": "0",
                                    "7": "0",
                                    "8": "0",
                                    "9": "2022-05-22 14:05:02.200",
                                    "10": "0",
                                    "11": "0",
                                    "12": "0",
                                    "13": "U ",
                                    "14": "1",
                                    "15": "3",
                                    "16": "0",
                                    "17": "2022-05-22 14:05:02.200",
                                    "18": "0",
                                    "19": "0",
                                    "20": "0",
                                    "21": "0",
                                    "22": "0",
                                    "23": "0",
                                    "24": "0"
                                },
                                {
                                    "0": "Visit_Bool",
                                    "1": "2021582240",
                                    "2": "U ",
                                    "3": "1",
                                    "4": "0",
                                    "5": "0",
                                    "6": "0",
                                    "7": "0",
                                    "8": "0",
                                    "9": "2022-05-22 14:05:41.920",
                                    "10": "0",
                                    "11": "0",
                                    "12": "0",
                                    "13": "U ",
                                    "14": "1",
                                    "15": "3",
                                    "16": "0",
                                    "17": "2022-05-22 14:05:41.920",
                                    "18": "0",
                                    "19": "0",
                                    "20": "0",
                                    "21": "0",
                                    "22": "0",
                                    "23": "0",
                                    "24": "0"
                                },
                                {
                                    "0": "Date",
                                    "1": "2037582297",
                                    "2": "U ",
                                    "3": "1",
                                    "4": "0",
                                    "5": "0",
                                    "6": "0",
                                    "7": "0",
                                    "8": "0",
                                    "9": "2022-05-22 14:06:17.340",
                                    "10": "0",
                                    "11": "0",
                                    "12": "0",
                                    "13": "U ",
                                    "14": "1",
                                    "15": "3",
                                    "16": "0",
                                    "17": "2022-05-22 14:06:17.340",
                                    "18": "0",
                                    "19": "0",
                                    "20": "0",
                                    "21": "0",
                                    "22": "0",
                                    "23": "0",
                                    "24": "0"
                                },
                                {
                                    "0": "Geo",
                                    "1": "2053582354",
                                    "2": "U ",
                                    "3": "1",
                                    "4": "0",
                                    "5": "0",
                                    "6": "0",
                                    "7": "0",
                                    "8": "0",
                                    "9": "2022-05-22 14:50:47.333",
                                    "10": "0",
                                    "11": "0",
                                    "12": "0",
                                    "13": "U ",
                                    "14": "1",
                                    "15": "3",
                                    "16": "0",
                                    "17": "2022-05-22 14:50:47.333",
                                    "18": "0",
                                    "19": "0",
                                    "20": "0",
                                    "21": "0",
                                    "22": "0",
                                    "23": "0",
                                    "24": "0"
                                },
                                {
                                    "0": "Artists",
                                    "1": "2101582525",
                                    "2": "U ",
                                    "3": "1",
                                    "4": "0",
                                    "5": "0",
                                    "6": "0",
                                    "7": "0",
                                    "8": "0",
                                    "9": "2022-05-29 10:07:59.773",
                                    "10": "0",
                                    "11": "0",
                                    "12": "0",
                                    "13": "U ",
                                    "14": "1",
                                    "15": "3",
                                    "16": "0",
                                    "17": "2022-05-29 10:07:59.773",
                                    "18": "0",
                                    "19": "0",
                                    "20": "0",
                                    "21": "0",
                                    "22": "0",
                                    "23": "0",
                                    "24": "0"
                                },
                                {
                                    "0": "Genre",
                                    "1": "2117582582",
                                    "2": "U ",
                                    "3": "1",
                                    "4": "0",
                                    "5": "0",
                                    "6": "0",
                                    "7": "0",
                                    "8": "0",
                                    "9": "2022-05-29 10:07:59.960",
                                    "10": "0",
                                    "11": "0",
                                    "12": "0",
                                    "13": "U ",
                                    "14": "1",
                                    "15": "3",
                                    "16": "0",
                                    "17": "2022-05-29 10:07:59.960",
                                    "18": "0",
                                    "19": "0",
                                    "20": "0",
                                    "21": "0",
                                    "22": "0",
                                    "23": "0",
                                    "24": "0"
                                },
                                {
                                    "0": "Members",
                                    "1": "2133582639",
                                    "2": "U ",
                                    "3": "1",
                                    "4": "0",
                                    "5": "0",
                                    "6": "0",
                                    "7": "0",
                                    "8": "0",
                                    "9": "2022-05-29 10:08:00.040",
                                    "10": "0",
                                    "11": "0",
                                    "12": "0",
                                    "13": "U ",
                                    "14": "1",
                                    "15": "3",
                                    "16": "0",
                                    "17": "2022-05-29 10:08:00.040",
                                    "18": "0",
                                    "19": "0",
                                    "20": "0",
                                    "21": "0",
                                    "22": "0",
                                    "23": "0",
                                    "24": "0"
                                }
                            ]
                        },
                        "text/html": "<table><tr><th>name</th><th>id</th><th>xtype</th><th>uid</th><th>info</th><th>status</th><th>base_schema_ver</th><th>replinfo</th><th>parent_obj</th><th>crdate</th><th>ftcatid</th><th>schema_ver</th><th>stats_schema_ver</th><th>type</th><th>userstat</th><th>sysstat</th><th>indexdel</th><th>refdate</th><th>version</th><th>deltrig</th><th>instrig</th><th>updtrig</th><th>seltrig</th><th>category</th><th>cache</th></tr><tr><td>SalesPeople</td><td>2099048</td><td>U </td><td>1</td><td>0</td><td>0</td><td>0</td><td>0</td><td>0</td><td>2022-05-29 10:08:00.383</td><td>0</td><td>0</td><td>0</td><td>U </td><td>1</td><td>3</td><td>0</td><td>2022-05-29 10:08:00.383</td><td>0</td><td>0</td><td>0</td><td>0</td><td>0</td><td>0</td><td>0</td></tr><tr><td>Studios</td><td>18099105</td><td>U </td><td>1</td><td>0</td><td>0</td><td>0</td><td>0</td><td>0</td><td>2022-05-29 10:08:00.520</td><td>0</td><td>0</td><td>0</td><td>U </td><td>1</td><td>3</td><td>0</td><td>2022-05-29 10:08:00.520</td><td>0</td><td>0</td><td>0</td><td>0</td><td>0</td><td>0</td><td>0</td></tr><tr><td>Titles</td><td>34099162</td><td>U </td><td>1</td><td>0</td><td>0</td><td>0</td><td>0</td><td>0</td><td>2022-05-29 10:08:00.610</td><td>0</td><td>0</td><td>0</td><td>U </td><td>1</td><td>3</td><td>0</td><td>2022-05-29 10:08:00.610</td><td>0</td><td>0</td><td>0</td><td>0</td><td>0</td><td>0</td><td>0</td></tr><tr><td>Tracks</td><td>50099219</td><td>U </td><td>1</td><td>0</td><td>0</td><td>0</td><td>0</td><td>0</td><td>2022-05-29 10:08:00.687</td><td>0</td><td>0</td><td>0</td><td>U </td><td>1</td><td>3</td><td>0</td><td>2022-05-29 10:08:00.687</td><td>0</td><td>0</td><td>0</td><td>0</td><td>0</td><td>0</td><td>0</td></tr><tr><td>XrefArtistsMembers</td><td>66099276</td><td>U </td><td>1</td><td>0</td><td>0</td><td>0</td><td>0</td><td>0</td><td>2022-05-29 10:08:01.013</td><td>0</td><td>0</td><td>0</td><td>U </td><td>1</td><td>3</td><td>0</td><td>2022-05-29 10:08:01.013</td><td>0</td><td>0</td><td>0</td><td>0</td><td>0</td><td>0</td><td>0</td></tr><tr><td>Survey</td><td>2005582183</td><td>U </td><td>1</td><td>0</td><td>0</td><td>0</td><td>0</td><td>0</td><td>2022-05-22 14:05:02.200</td><td>0</td><td>0</td><td>0</td><td>U </td><td>1</td><td>3</td><td>0</td><td>2022-05-22 14:05:02.200</td><td>0</td><td>0</td><td>0</td><td>0</td><td>0</td><td>0</td><td>0</td></tr><tr><td>Visit_Bool</td><td>2021582240</td><td>U </td><td>1</td><td>0</td><td>0</td><td>0</td><td>0</td><td>0</td><td>2022-05-22 14:05:41.920</td><td>0</td><td>0</td><td>0</td><td>U </td><td>1</td><td>3</td><td>0</td><td>2022-05-22 14:05:41.920</td><td>0</td><td>0</td><td>0</td><td>0</td><td>0</td><td>0</td><td>0</td></tr><tr><td>Date</td><td>2037582297</td><td>U </td><td>1</td><td>0</td><td>0</td><td>0</td><td>0</td><td>0</td><td>2022-05-22 14:06:17.340</td><td>0</td><td>0</td><td>0</td><td>U </td><td>1</td><td>3</td><td>0</td><td>2022-05-22 14:06:17.340</td><td>0</td><td>0</td><td>0</td><td>0</td><td>0</td><td>0</td><td>0</td></tr><tr><td>Geo</td><td>2053582354</td><td>U </td><td>1</td><td>0</td><td>0</td><td>0</td><td>0</td><td>0</td><td>2022-05-22 14:50:47.333</td><td>0</td><td>0</td><td>0</td><td>U </td><td>1</td><td>3</td><td>0</td><td>2022-05-22 14:50:47.333</td><td>0</td><td>0</td><td>0</td><td>0</td><td>0</td><td>0</td><td>0</td></tr><tr><td>Artists</td><td>2101582525</td><td>U </td><td>1</td><td>0</td><td>0</td><td>0</td><td>0</td><td>0</td><td>2022-05-29 10:07:59.773</td><td>0</td><td>0</td><td>0</td><td>U </td><td>1</td><td>3</td><td>0</td><td>2022-05-29 10:07:59.773</td><td>0</td><td>0</td><td>0</td><td>0</td><td>0</td><td>0</td><td>0</td></tr><tr><td>Genre</td><td>2117582582</td><td>U </td><td>1</td><td>0</td><td>0</td><td>0</td><td>0</td><td>0</td><td>2022-05-29 10:07:59.960</td><td>0</td><td>0</td><td>0</td><td>U </td><td>1</td><td>3</td><td>0</td><td>2022-05-29 10:07:59.960</td><td>0</td><td>0</td><td>0</td><td>0</td><td>0</td><td>0</td><td>0</td></tr><tr><td>Members</td><td>2133582639</td><td>U </td><td>1</td><td>0</td><td>0</td><td>0</td><td>0</td><td>0</td><td>2022-05-29 10:08:00.040</td><td>0</td><td>0</td><td>0</td><td>U </td><td>1</td><td>3</td><td>0</td><td>2022-05-29 10:08:00.040</td><td>0</td><td>0</td><td>0</td><td>0</td><td>0</td><td>0</td><td>0</td></tr></table>"
                    },
                    "metadata": {}
                }
            ],
            "execution_count": 4
        },
        {
            "cell_type": "markdown",
            "source": [
                "  \n",
                "\n",
                "List the first name, last name, home phone, and gender of all members from Georgia who either have a home phone in area code 822 or are female"
            ],
            "metadata": {
                "azdata_cell_guid": "8984b17e-7368-414a-aa6e-2575f3737c32"
            },
            "attachments": {}
        },
        {
            "cell_type": "code",
            "source": [
                "SELECT FirstName, LastName, HomePhone, Gender \n",
                "FROM Members\n",
                "WHERE Region = 'GA' AND (HomePhone LIKE '822%' or Gender = 'F')\n",
                ""
            ],
            "metadata": {
                "azdata_cell_guid": "93ffa5b7-888a-4dc4-acf6-ed32843ce89f",
                "language": "sql",
                "tags": [
                    "hide_input"
                ]
            },
            "outputs": [
                {
                    "output_type": "display_data",
                    "data": {
                        "text/html": "(3 rows affected)"
                    },
                    "metadata": {}
                },
                {
                    "output_type": "display_data",
                    "data": {
                        "text/html": "Total execution time: 00:00:00.114"
                    },
                    "metadata": {}
                },
                {
                    "output_type": "execute_result",
                    "execution_count": 26,
                    "data": {
                        "application/vnd.dataresource+json": {
                            "schema": {
                                "fields": [
                                    {
                                        "name": "FirstName"
                                    },
                                    {
                                        "name": "LastName"
                                    },
                                    {
                                        "name": "HomePhone"
                                    },
                                    {
                                        "name": "Gender"
                                    }
                                ]
                            },
                            "data": [
                                {
                                    "0": "Doug",
                                    "1": "Finney",
                                    "2": "9821222929",
                                    "3": "M"
                                },
                                {
                                    "0": "Terry",
                                    "1": "Irving",
                                    "2": "5411252093",
                                    "3": "M"
                                },
                                {
                                    "0": "Michelle",
                                    "1": "Henderson",
                                    "2": "8221928273",
                                    "3": "F"
                                }
                            ]
                        },
                        "text/html": "<table><tr><th>FirstName</th><th>LastName</th><th>HomePhone</th><th>Gender</th></tr><tr><td>Doug</td><td>Finney</td><td>9821222929</td><td>M</td></tr><tr><td>Terry</td><td>Irving</td><td>5411252093</td><td>M</td></tr><tr><td>Michelle</td><td>Henderson</td><td>8221928273</td><td>F</td></tr></table>"
                    },
                    "metadata": {}
                }
            ],
            "execution_count": 26
        },
        {
            "cell_type": "markdown",
            "source": [
                "List all the information of tracks that do not have an MP3."
            ],
            "metadata": {
                "language": "sql",
                "azdata_cell_guid": "abc80105-1b97-4841-95a8-db026fb41748"
            },
            "attachments": {}
        },
        {
            "cell_type": "code",
            "source": [
                "SELECT *\n",
                "FROM Tracks\n",
                "WHERE MP3 = '0'"
            ],
            "metadata": {
                "language": "sql",
                "azdata_cell_guid": "dd120618-f059-48e0-8dda-3b6e189beee6",
                "tags": []
            },
            "outputs": [
                {
                    "output_type": "display_data",
                    "data": {
                        "text/html": "(4 rows affected)"
                    },
                    "metadata": {}
                },
                {
                    "output_type": "display_data",
                    "data": {
                        "text/html": "Total execution time: 00:00:00.187"
                    },
                    "metadata": {}
                },
                {
                    "output_type": "execute_result",
                    "execution_count": 35,
                    "data": {
                        "application/vnd.dataresource+json": {
                            "schema": {
                                "fields": [
                                    {
                                        "name": "TitleID"
                                    },
                                    {
                                        "name": "TrackNum"
                                    },
                                    {
                                        "name": "TrackTitle"
                                    },
                                    {
                                        "name": "LengthSeconds"
                                    },
                                    {
                                        "name": "MP3"
                                    },
                                    {
                                        "name": "RealAud"
                                    }
                                ]
                            },
                            "data": [
                                {
                                    "0": "3",
                                    "1": "7",
                                    "2": "Wooden Man",
                                    "3": "314",
                                    "4": "0",
                                    "5": "0"
                                },
                                {
                                    "0": "3",
                                    "1": "8",
                                    "2": "UPS",
                                    "3": "97",
                                    "4": "0",
                                    "5": "0"
                                },
                                {
                                    "0": "3",
                                    "1": "9",
                                    "2": "Empty",
                                    "3": "182",
                                    "4": "0",
                                    "5": "0"
                                },
                                {
                                    "0": "3",
                                    "1": "10",
                                    "2": "Burrito",
                                    "3": "65",
                                    "4": "0",
                                    "5": "0"
                                }
                            ]
                        },
                        "text/html": "<table><tr><th>TitleID</th><th>TrackNum</th><th>TrackTitle</th><th>LengthSeconds</th><th>MP3</th><th>RealAud</th></tr><tr><td>3</td><td>7</td><td>Wooden Man</td><td>314</td><td>0</td><td>0</td></tr><tr><td>3</td><td>8</td><td>UPS</td><td>97</td><td>0</td><td>0</td></tr><tr><td>3</td><td>9</td><td>Empty</td><td>182</td><td>0</td><td>0</td></tr><tr><td>3</td><td>10</td><td>Burrito</td><td>65</td><td>0</td><td>0</td></tr></table>"
                    },
                    "metadata": {}
                }
            ],
            "execution_count": 35
        },
        {
            "cell_type": "markdown",
            "source": [
                "List the TitleID, Title, and UPC of any titles whose UPC end with '2'"
            ],
            "metadata": {
                "language": "sql",
                "azdata_cell_guid": "961175da-2610-40bb-b323-3cfb7c41ff05"
            },
            "attachments": {}
        },
        {
            "cell_type": "code",
            "source": [
                "SELECT TitleId, Title, UPC \n",
                "FROM Titles\n",
                "WHERE UPC LIKE '%2'"
            ],
            "metadata": {
                "language": "sql",
                "azdata_cell_guid": "222e796f-0179-4c32-aea2-5155165ff2c2"
            },
            "outputs": [
                {
                    "output_type": "display_data",
                    "data": {
                        "text/html": "(3 rows affected)"
                    },
                    "metadata": {}
                },
                {
                    "output_type": "display_data",
                    "data": {
                        "text/html": "Total execution time: 00:00:00.248"
                    },
                    "metadata": {}
                },
                {
                    "output_type": "execute_result",
                    "execution_count": 36,
                    "data": {
                        "application/vnd.dataresource+json": {
                            "schema": {
                                "fields": [
                                    {
                                        "name": "TitleId"
                                    },
                                    {
                                        "name": "Title"
                                    },
                                    {
                                        "name": "UPC"
                                    }
                                ]
                            },
                            "data": [
                                {
                                    "0": "3",
                                    "1": "Smell the Glove",
                                    "2": "1283772282"
                                },
                                {
                                    "0": "4",
                                    "1": "Time Flies",
                                    "2": "1882344222"
                                },
                                {
                                    "0": "5",
                                    "1": "Neurotic Sequel",
                                    "2": "2828830202"
                                }
                            ]
                        },
                        "text/html": "<table><tr><th>TitleId</th><th>Title</th><th>UPC</th></tr><tr><td>3</td><td>Smell the Glove</td><td>1283772282</td></tr><tr><td>4</td><td>Time Flies</td><td>1882344222</td></tr><tr><td>5</td><td>Neurotic Sequel</td><td>2828830202</td></tr></table>"
                    },
                    "metadata": {}
                }
            ],
            "execution_count": 36
        },
        {
            "cell_type": "markdown",
            "source": [
                "4\\. If the Base field reports the daily base salary of each salesperson, report the Fristname, Lastname, and weekly (5 work days) salary of each salesperson whose weekly salary is greater than $1000. The format of the results should be: First Name  Last Name  Weekly Salary"
            ],
            "metadata": {
                "language": "sql",
                "azdata_cell_guid": "046e25c8-e40a-45fe-aef3-31594431ec51"
            },
            "attachments": {}
        },
        {
            "cell_type": "code",
            "source": [
                "SELECT FirstName, LastName, (Base * 5) AS 'Weekly Salary'\n",
                "FROM SalesPeople\n",
                "WHERE (Base * 5) > 1000;"
            ],
            "metadata": {
                "language": "sql",
                "azdata_cell_guid": "ee10c3a7-9617-44cb-be04-785941fb2b1b"
            },
            "outputs": [
                {
                    "output_type": "display_data",
                    "data": {
                        "text/html": "(1 row affected)"
                    },
                    "metadata": {}
                },
                {
                    "output_type": "display_data",
                    "data": {
                        "text/html": "Total execution time: 00:00:00.102"
                    },
                    "metadata": {}
                },
                {
                    "output_type": "execute_result",
                    "metadata": {},
                    "execution_count": 5,
                    "data": {
                        "application/vnd.dataresource+json": {
                            "schema": {
                                "fields": [
                                    {
                                        "name": "FirstName"
                                    },
                                    {
                                        "name": "LastName"
                                    },
                                    {
                                        "name": "Weekly Salary"
                                    }
                                ]
                            },
                            "data": [
                                {
                                    "0": "Lisa",
                                    "1": "Williams",
                                    "2": "1500.00"
                                }
                            ]
                        },
                        "text/html": [
                            "<table>",
                            "<tr><th>FirstName</th><th>LastName</th><th>Weekly Salary</th></tr>",
                            "<tr><td>Lisa</td><td>Williams</td><td>1500.00</td></tr>",
                            "</table>"
                        ]
                    }
                }
            ],
            "execution_count": 5
        },
        {
            "cell_type": "markdown",
            "source": [
                "5\\. Report the average, shortest and longest track length in minutes of all tracks."
            ],
            "metadata": {
                "language": "sql",
                "azdata_cell_guid": "ab74abc2-404c-4cbc-ad63-89a4c79ec8b6"
            },
            "attachments": {}
        },
        {
            "cell_type": "code",
            "source": [
                "SELECT AVG(LengthSeconds/60) AS 'Average', MIN(LengthSeconds/60) AS 'Shortest', MAX(LengthSeconds/60) AS 'Longest'\n",
                "FROM Tracks;"
            ],
            "metadata": {
                "language": "sql",
                "azdata_cell_guid": "e42f2335-d93b-445d-9021-7897661f08ca",
                "tags": [
                    "hide_input"
                ]
            },
            "outputs": [
                {
                    "output_type": "display_data",
                    "data": {
                        "text/html": "(1 row affected)"
                    },
                    "metadata": {}
                },
                {
                    "output_type": "display_data",
                    "data": {
                        "text/html": "Total execution time: 00:00:00.083"
                    },
                    "metadata": {}
                },
                {
                    "output_type": "execute_result",
                    "metadata": {},
                    "execution_count": 22,
                    "data": {
                        "application/vnd.dataresource+json": {
                            "schema": {
                                "fields": [
                                    {
                                        "name": "Average"
                                    },
                                    {
                                        "name": "Shortest"
                                    },
                                    {
                                        "name": "Longest"
                                    }
                                ]
                            },
                            "data": [
                                {
                                    "0": "4",
                                    "1": "0",
                                    "2": "13"
                                }
                            ]
                        },
                        "text/html": [
                            "<table>",
                            "<tr><th>Average</th><th>Shortest</th><th>Longest</th></tr>",
                            "<tr><td>4</td><td>0</td><td>13</td></tr>",
                            "</table>"
                        ]
                    }
                }
            ],
            "execution_count": 22
        },
        {
            "cell_type": "markdown",
            "source": [
                "6\\. List the number of track titles that begin with the letter 's' and the average length of these tracks in seconds"
            ],
            "metadata": {
                "language": "sql",
                "azdata_cell_guid": "325e3a43-2216-4dc0-8787-117b3245dbfa"
            },
            "attachments": {}
        },
        {
            "cell_type": "code",
            "source": [
                "SELECT TrackTitle, AVG(LengthSeconds) AS 'Average Length'\n",
                "FROM Tracks\n",
                "WHERE TrackTitle LIKE 's%';"
            ],
            "metadata": {
                "language": "sql",
                "azdata_cell_guid": "e99d3512-bf56-4b8c-83c7-b8888c54825d"
            },
            "outputs": [
                {
                    "output_type": "error",
                    "evalue": "Msg 8120, Level 16, State 1, Line 1\nColumn 'Tracks.TrackTitle' is invalid in the select list because it is not contained in either an aggregate function or the GROUP BY clause.",
                    "ename": "",
                    "traceback": []
                },
                {
                    "output_type": "display_data",
                    "data": {
                        "text/html": "Total execution time: 00:00:00.087"
                    },
                    "metadata": {}
                }
            ],
            "execution_count": 31
        },
        {
            "cell_type": "markdown",
            "source": [
                "7\\. Report the number of tracks for each TitleID"
            ],
            "metadata": {
                "language": "sql",
                "azdata_cell_guid": "93344c89-21e0-4088-b0f1-f3c6598e864b"
            },
            "attachments": {}
        },
        {
            "cell_type": "code",
            "source": [
                "SELECT TitleID, COUNT(TitleID) AS 'Number of Tracks'\n",
                "FROM Tracks\n",
                "GROUP BY TitleID"
            ],
            "metadata": {
                "language": "sql",
                "azdata_cell_guid": "0a843c54-db76-4bfd-bf46-68a9355c3b6a"
            },
            "outputs": [
                {
                    "output_type": "display_data",
                    "data": {
                        "text/html": "(6 rows affected)"
                    },
                    "metadata": {}
                },
                {
                    "output_type": "display_data",
                    "data": {
                        "text/html": "Total execution time: 00:00:00.115"
                    },
                    "metadata": {}
                },
                {
                    "output_type": "execute_result",
                    "metadata": {},
                    "execution_count": 35,
                    "data": {
                        "application/vnd.dataresource+json": {
                            "schema": {
                                "fields": [
                                    {
                                        "name": "TitleID"
                                    },
                                    {
                                        "name": "Number of Tracks"
                                    }
                                ]
                            },
                            "data": [
                                {
                                    "0": "1",
                                    "1": "8"
                                },
                                {
                                    "0": "3",
                                    "1": "10"
                                },
                                {
                                    "0": "4",
                                    "1": "10"
                                },
                                {
                                    "0": "5",
                                    "1": "9"
                                },
                                {
                                    "0": "6",
                                    "1": "5"
                                },
                                {
                                    "0": "7",
                                    "1": "8"
                                }
                            ]
                        },
                        "text/html": [
                            "<table>",
                            "<tr><th>TitleID</th><th>Number of Tracks</th></tr>",
                            "<tr><td>1</td><td>8</td></tr>",
                            "<tr><td>3</td><td>10</td></tr>",
                            "<tr><td>4</td><td>10</td></tr>",
                            "<tr><td>5</td><td>9</td></tr>",
                            "<tr><td>6</td><td>5</td></tr>",
                            "<tr><td>7</td><td>8</td></tr>",
                            "</table>"
                        ]
                    }
                }
            ],
            "execution_count": 35
        },
        {
            "cell_type": "markdown",
            "source": [
                "8\\. Report the total time in minutes for each titleid"
            ],
            "metadata": {
                "language": "sql",
                "azdata_cell_guid": "f4f825a8-f112-4be9-9dd6-fc08a66dcd80"
            },
            "attachments": {}
        },
        {
            "cell_type": "code",
            "source": [
                "SELECT TitleID, SUM(LengthSeconds/60) AS 'Total Time in Minutes'\n",
                "FROM Tracks\n",
                "GROUP BY TitleID"
            ],
            "metadata": {
                "language": "sql",
                "azdata_cell_guid": "edfc150b-5101-40fd-a3c9-f98418cc7e89",
                "tags": []
            },
            "outputs": [
                {
                    "output_type": "display_data",
                    "data": {
                        "text/html": "(6 rows affected)"
                    },
                    "metadata": {}
                },
                {
                    "output_type": "display_data",
                    "data": {
                        "text/html": "Total execution time: 00:00:00.088"
                    },
                    "metadata": {}
                },
                {
                    "output_type": "execute_result",
                    "metadata": {},
                    "execution_count": 39,
                    "data": {
                        "application/vnd.dataresource+json": {
                            "schema": {
                                "fields": [
                                    {
                                        "name": "TitleID"
                                    },
                                    {
                                        "name": "Total Time in Minutes"
                                    }
                                ]
                            },
                            "data": [
                                {
                                    "0": "1",
                                    "1": "33"
                                },
                                {
                                    "0": "3",
                                    "1": "32"
                                },
                                {
                                    "0": "4",
                                    "1": "33"
                                },
                                {
                                    "0": "5",
                                    "1": "30"
                                },
                                {
                                    "0": "6",
                                    "1": "42"
                                },
                                {
                                    "0": "7",
                                    "1": "37"
                                }
                            ]
                        },
                        "text/html": [
                            "<table>",
                            "<tr><th>TitleID</th><th>Total Time in Minutes</th></tr>",
                            "<tr><td>1</td><td>33</td></tr>",
                            "<tr><td>3</td><td>32</td></tr>",
                            "<tr><td>4</td><td>33</td></tr>",
                            "<tr><td>5</td><td>30</td></tr>",
                            "<tr><td>6</td><td>42</td></tr>",
                            "<tr><td>7</td><td>37</td></tr>",
                            "</table>"
                        ]
                    }
                }
            ],
            "execution_count": 39
        },
        {
            "cell_type": "markdown",
            "source": [
                "9\\. Report region and the number of members in each region in the members table. Sort the results by the region."
            ],
            "metadata": {
                "language": "sql",
                "azdata_cell_guid": "f313c3e8-6106-4c53-b1ba-80f36d29bad3"
            },
            "attachments": {}
        },
        {
            "cell_type": "code",
            "source": [
                "SELECT Region, COUNT(MemberID) AS 'Number of Members'\n",
                "FROM Members\n",
                "GROUP BY Region"
            ],
            "metadata": {
                "language": "sql",
                "azdata_cell_guid": "09c1538b-12bb-4edb-9a71-d6f1768e044a"
            },
            "outputs": [
                {
                    "output_type": "display_data",
                    "data": {
                        "text/html": "(11 rows affected)"
                    },
                    "metadata": {}
                },
                {
                    "output_type": "display_data",
                    "data": {
                        "text/html": "Total execution time: 00:00:00.108"
                    },
                    "metadata": {}
                },
                {
                    "output_type": "execute_result",
                    "metadata": {},
                    "execution_count": 60,
                    "data": {
                        "application/vnd.dataresource+json": {
                            "schema": {
                                "fields": [
                                    {
                                        "name": "Region"
                                    },
                                    {
                                        "name": "Number of Members"
                                    }
                                ]
                            },
                            "data": [
                                {
                                    "0": "CA",
                                    "1": "1"
                                },
                                {
                                    "0": "GA",
                                    "1": "3"
                                },
                                {
                                    "0": "IL",
                                    "1": "1"
                                },
                                {
                                    "0": "IN",
                                    "1": "2"
                                },
                                {
                                    "0": "NC",
                                    "1": "1"
                                },
                                {
                                    "0": "NY",
                                    "1": "2"
                                },
                                {
                                    "0": "OH",
                                    "1": "2"
                                },
                                {
                                    "0": "ONT",
                                    "1": "2"
                                },
                                {
                                    "0": "TX",
                                    "1": "3"
                                },
                                {
                                    "0": "VA",
                                    "1": "3"
                                },
                                {
                                    "0": "VT",
                                    "1": "3"
                                }
                            ]
                        },
                        "text/html": [
                            "<table>",
                            "<tr><th>Region</th><th>Number of Members</th></tr>",
                            "<tr><td>CA</td><td>1</td></tr>",
                            "<tr><td>GA</td><td>3</td></tr>",
                            "<tr><td>IL</td><td>1</td></tr>",
                            "<tr><td>IN</td><td>2</td></tr>",
                            "<tr><td>NC</td><td>1</td></tr>",
                            "<tr><td>NY</td><td>2</td></tr>",
                            "<tr><td>OH</td><td>2</td></tr>",
                            "<tr><td>ONT</td><td>2</td></tr>",
                            "<tr><td>TX</td><td>3</td></tr>",
                            "<tr><td>VA</td><td>3</td></tr>",
                            "<tr><td>VT</td><td>3</td></tr>",
                            "</table>"
                        ]
                    }
                }
            ],
            "execution_count": 60
        },
        {
            "cell_type": "markdown",
            "source": [
                "10\\. For any region that has more than one member with an e-mail address, list the region and the number of members with an e-mail address."
            ],
            "metadata": {
                "language": "sql",
                "azdata_cell_guid": "8423343e-37b2-4007-b045-0f2d87f845d7"
            },
            "attachments": {}
        },
        {
            "cell_type": "code",
            "source": [
                "SELECT Region, COUNT(MemberID) AS 'Number of Members'\n",
                "FROM Members\n",
                "WHERE Email IS NOT NULL \n",
                "GROUP BY Region HAVING COUNT(MemberID) > 1"
            ],
            "metadata": {
                "language": "sql",
                "azdata_cell_guid": "bcf20c47-1d96-4fce-a59c-92c418e887d3"
            },
            "outputs": [
                {
                    "output_type": "display_data",
                    "data": {
                        "text/html": "(2 rows affected)"
                    },
                    "metadata": {}
                },
                {
                    "output_type": "display_data",
                    "data": {
                        "text/html": "Total execution time: 00:00:00.115"
                    },
                    "metadata": {}
                },
                {
                    "output_type": "execute_result",
                    "metadata": {},
                    "execution_count": 77,
                    "data": {
                        "application/vnd.dataresource+json": {
                            "schema": {
                                "fields": [
                                    {
                                        "name": "Region"
                                    },
                                    {
                                        "name": "Number of Members"
                                    }
                                ]
                            },
                            "data": [
                                {
                                    "0": "IN",
                                    "1": "2"
                                },
                                {
                                    "0": "TX",
                                    "1": "2"
                                }
                            ]
                        },
                        "text/html": [
                            "<table>",
                            "<tr><th>Region</th><th>Number of Members</th></tr>",
                            "<tr><td>IN</td><td>2</td></tr>",
                            "<tr><td>TX</td><td>2</td></tr>",
                            "</table>"
                        ]
                    }
                }
            ],
            "execution_count": 77
        }
    ]
}