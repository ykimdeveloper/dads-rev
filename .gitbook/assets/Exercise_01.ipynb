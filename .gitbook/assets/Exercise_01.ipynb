{
    "metadata": {
        "kernelspec": {
            "name": "SQL",
            "display_name": "SQL",
            "language": "sql"
        },
        "language_info": {
            "name": "sql",
            "version": ""
        }
    },
    "nbformat_minor": 2,
    "nbformat": 4,
    "cells": [
        {
            "cell_type": "markdown",
            "source": [
                "1\\. List the Title, UPC and Genre of all CD titles. (Titles table)"
            ],
            "metadata": {
                "azdata_cell_guid": "8f9d5922-253a-429f-a6d4-1524eff9ec46"
            },
            "attachments": {}
        },
        {
            "cell_type": "code",
            "source": [
                "SELECT Title, UPC, Genre \n",
                "FROM Titles;"
            ],
            "metadata": {
                "azdata_cell_guid": "e3697e41-880d-459b-882a-468cd1f47f18",
                "language": "sql",
                "tags": []
            },
            "outputs": [
                {
                    "output_type": "display_data",
                    "data": {
                        "text/html": "(6 rows affected)"
                    },
                    "metadata": {}
                },
                {
                    "output_type": "display_data",
                    "data": {
                        "text/html": "Total execution time: 00:00:00.120"
                    },
                    "metadata": {}
                },
                {
                    "output_type": "execute_result",
                    "metadata": {},
                    "execution_count": 4,
                    "data": {
                        "application/vnd.dataresource+json": {
                            "schema": {
                                "fields": [
                                    {
                                        "name": "Title"
                                    },
                                    {
                                        "name": "UPC"
                                    },
                                    {
                                        "name": "Genre"
                                    }
                                ]
                            },
                            "data": [
                                {
                                    "0": "Meet the Neurotics",
                                    "1": "2727366627",
                                    "2": "alternative"
                                },
                                {
                                    "0": "Smell the Glove",
                                    "1": "1283772282",
                                    "2": "metal"
                                },
                                {
                                    "0": "Time Flies",
                                    "1": "1882344222",
                                    "2": "alternative"
                                },
                                {
                                    "0": "Neurotic Sequel",
                                    "1": "2828830202",
                                    "2": "alternative"
                                },
                                {
                                    "0": "Sonatas",
                                    "1": "3999320021",
                                    "2": "classical"
                                },
                                {
                                    "0": "Louis at the Keys",
                                    "1": "3838227111",
                                    "2": "jazz"
                                }
                            ]
                        },
                        "text/html": [
                            "<table>",
                            "<tr><th>Title</th><th>UPC</th><th>Genre</th></tr>",
                            "<tr><td>Meet the Neurotics</td><td>2727366627</td><td>alternative</td></tr>",
                            "<tr><td>Smell the Glove</td><td>1283772282</td><td>metal</td></tr>",
                            "<tr><td>Time Flies</td><td>1882344222</td><td>alternative</td></tr>",
                            "<tr><td>Neurotic Sequel</td><td>2828830202</td><td>alternative</td></tr>",
                            "<tr><td>Sonatas</td><td>3999320021</td><td>classical</td></tr>",
                            "<tr><td>Louis at the Keys</td><td>3838227111</td><td>jazz</td></tr>",
                            "</table>"
                        ]
                    }
                }
            ],
            "execution_count": 4
        },
        {
            "cell_type": "markdown",
            "source": [
                "2\\. List the information of CD(s) produced by the artist whose ArtistID is 2. (Titles table)"
            ],
            "metadata": {
                "language": "sql",
                "azdata_cell_guid": "8701b892-fb06-48b4-929e-134454ea5961"
            },
            "attachments": {}
        },
        {
            "cell_type": "code",
            "source": [
                "SELECT * \n",
                "FROM Titles\n",
                "WHERE ArtistID = 2;"
            ],
            "metadata": {
                "language": "sql",
                "azdata_cell_guid": "b33a4af3-5c0f-4358-8203-81d5d9f08ec7",
                "tags": []
            },
            "outputs": [
                {
                    "output_type": "display_data",
                    "data": {
                        "text/html": "(1 row affected)"
                    },
                    "metadata": {}
                },
                {
                    "output_type": "display_data",
                    "data": {
                        "text/html": "Total execution time: 00:00:00.134"
                    },
                    "metadata": {}
                },
                {
                    "output_type": "execute_result",
                    "metadata": {},
                    "execution_count": 6,
                    "data": {
                        "application/vnd.dataresource+json": {
                            "schema": {
                                "fields": [
                                    {
                                        "name": "TitleID"
                                    },
                                    {
                                        "name": "ArtistID"
                                    },
                                    {
                                        "name": "Title"
                                    },
                                    {
                                        "name": "StudioID"
                                    },
                                    {
                                        "name": "UPC"
                                    },
                                    {
                                        "name": "Genre"
                                    }
                                ]
                            },
                            "data": [
                                {
                                    "0": "7",
                                    "1": "2",
                                    "2": "Louis at the Keys",
                                    "3": "3",
                                    "4": "3838227111",
                                    "5": "jazz"
                                }
                            ]
                        },
                        "text/html": [
                            "<table>",
                            "<tr><th>TitleID</th><th>ArtistID</th><th>Title</th><th>StudioID</th><th>UPC</th><th>Genre</th></tr>",
                            "<tr><td>7</td><td>2</td><td>Louis at the Keys</td><td>3</td><td>3838227111</td><td>jazz</td></tr>",
                            "</table>"
                        ]
                    }
                }
            ],
            "execution_count": 6
        },
        {
            "cell_type": "markdown",
            "source": [
                "3\\. List the First Name, Last Name, HomePhome and Email address of all members. (Members table)"
            ],
            "metadata": {
                "language": "sql",
                "azdata_cell_guid": "af805d8f-75b5-424e-ad0e-5c5a8883bbbf"
            },
            "attachments": {}
        },
        {
            "cell_type": "code",
            "source": [
                "SELECT FirstName, LastName, HomePhone, Email\n",
                "FROM Members;\n",
                ""
            ],
            "metadata": {
                "language": "sql",
                "azdata_cell_guid": "d2b004b2-604d-4248-9b11-f0ff4ab62ac1"
            },
            "outputs": [
                {
                    "output_type": "display_data",
                    "data": {
                        "text/html": "(23 rows affected)"
                    },
                    "metadata": {}
                },
                {
                    "output_type": "display_data",
                    "data": {
                        "text/html": "Total execution time: 00:00:00.097"
                    },
                    "metadata": {}
                },
                {
                    "output_type": "execute_result",
                    "metadata": {},
                    "execution_count": 8,
                    "data": {
                        "application/vnd.dataresource+json": {
                            "schema": {
                                "fields": [
                                    {
                                        "name": "FirstName"
                                    },
                                    {
                                        "name": "LastName"
                                    },
                                    {
                                        "name": "HomePhone"
                                    },
                                    {
                                        "name": "Email"
                                    }
                                ]
                            },
                            "data": [
                                {
                                    "0": "Roberto",
                                    "1": "Alvarez",
                                    "2": "7651552983",
                                    "3": "ral@mightyhostl.com"
                                },
                                {
                                    "0": "Jose",
                                    "1": "MacArthur",
                                    "2": "6331289393",
                                    "3": "jmac@dowop.com"
                                },
                                {
                                    "0": "Mary",
                                    "1": "Chrisman",
                                    "2": "3171820387",
                                    "3": "mjc17@daviscorp.com"
                                },
                                {
                                    "0": "Warren",
                                    "1": "Boyer",
                                    "2": "8221722883",
                                    "3": "wbman@uptime.net"
                                },
                                {
                                    "0": "Doug",
                                    "1": "Finney",
                                    "2": "9821222929",
                                    "3": "fennyd@bitspeed.com"
                                },
                                {
                                    "0": "Terry",
                                    "1": "Irving",
                                    "2": "5411252093",
                                    "3": "NULL"
                                },
                                {
                                    "0": "Michelle",
                                    "1": "Henderson",
                                    "2": "8221928273",
                                    "3": "NULL"
                                },
                                {
                                    "0": "William",
                                    "1": "Morrow",
                                    "2": "9981722928",
                                    "3": "wmorrow@wmorrow.com"
                                },
                                {
                                    "0": "Frank",
                                    "1": "Payne",
                                    "2": "9981737464",
                                    "3": "NULL"
                                },
                                {
                                    "0": "Aiden",
                                    "1": "Franks",
                                    "2": "8321729283",
                                    "3": "kosmo@ispl.com"
                                },
                                {
                                    "0": "Bryce",
                                    "1": "Sanders",
                                    "2": "6441824283",
                                    "3": "bs@cookery.com"
                                },
                                {
                                    "0": "Carol",
                                    "1": "Wanner",
                                    "2": "6831223944",
                                    "3": "NULL"
                                },
                                {
                                    "0": "Brian",
                                    "1": "Ranier",
                                    "2": "6231842933",
                                    "3": "NULL"
                                },
                                {
                                    "0": "Marcellin",
                                    "1": "Lambert",
                                    "2": "8331929302",
                                    "3": "mlambert@corkscrew.com"
                                },
                                {
                                    "0": "Caroline",
                                    "1": "Kale",
                                    "2": "7321223742",
                                    "3": "NULL"
                                },
                                {
                                    "0": "Kerry",
                                    "1": "Fernandez",
                                    "2": "2211229384",
                                    "3": "NULL"
                                },
                                {
                                    "0": "Tony",
                                    "1": "Wong",
                                    "2": "3311692832",
                                    "3": "twong@tamilla.org"
                                },
                                {
                                    "0": "Bonnie",
                                    "1": "Taft",
                                    "2": "3721223292",
                                    "3": "taffygirl@signon.com"
                                },
                                {
                                    "0": "Louis",
                                    "1": "Holiday",
                                    "2": "1451223838",
                                    "3": "NULL"
                                },
                                {
                                    "0": "Bobby",
                                    "1": "Crum",
                                    "2": "1831828211",
                                    "3": "NULL"
                                },
                                {
                                    "0": "Vic",
                                    "1": "Cleaver",
                                    "2": "8111839292",
                                    "3": "NULL"
                                },
                                {
                                    "0": "Roberto",
                                    "1": "Goe",
                                    "2": "2771123943",
                                    "3": "NULL"
                                },
                                {
                                    "0": "Davis",
                                    "1": "Goodman",
                                    "2": "2771152882",
                                    "3": "goody@irvingnet.com"
                                }
                            ]
                        },
                        "text/html": [
                            "<table>",
                            "<tr><th>FirstName</th><th>LastName</th><th>HomePhone</th><th>Email</th></tr>",
                            "<tr><td>Roberto</td><td>Alvarez</td><td>7651552983</td><td>ral@mightyhostl.com</td></tr>",
                            "<tr><td>Jose</td><td>MacArthur</td><td>6331289393</td><td>jmac@dowop.com</td></tr>",
                            "<tr><td>Mary</td><td>Chrisman</td><td>3171820387</td><td>mjc17@daviscorp.com</td></tr>",
                            "<tr><td>Warren</td><td>Boyer</td><td>8221722883</td><td>wbman@uptime.net</td></tr>",
                            "<tr><td>Doug</td><td>Finney</td><td>9821222929</td><td>fennyd@bitspeed.com</td></tr>",
                            "<tr><td>Terry</td><td>Irving</td><td>5411252093</td><td>NULL</td></tr>",
                            "<tr><td>Michelle</td><td>Henderson</td><td>8221928273</td><td>NULL</td></tr>",
                            "<tr><td>William</td><td>Morrow</td><td>9981722928</td><td>wmorrow@wmorrow.com</td></tr>",
                            "<tr><td>Frank</td><td>Payne</td><td>9981737464</td><td>NULL</td></tr>",
                            "<tr><td>Aiden</td><td>Franks</td><td>8321729283</td><td>kosmo@ispl.com</td></tr>",
                            "<tr><td>Bryce</td><td>Sanders</td><td>6441824283</td><td>bs@cookery.com</td></tr>",
                            "<tr><td>Carol</td><td>Wanner</td><td>6831223944</td><td>NULL</td></tr>",
                            "<tr><td>Brian</td><td>Ranier</td><td>6231842933</td><td>NULL</td></tr>",
                            "<tr><td>Marcellin</td><td>Lambert</td><td>8331929302</td><td>mlambert@corkscrew.com</td></tr>",
                            "<tr><td>Caroline</td><td>Kale</td><td>7321223742</td><td>NULL</td></tr>",
                            "<tr><td>Kerry</td><td>Fernandez</td><td>2211229384</td><td>NULL</td></tr>",
                            "<tr><td>Tony</td><td>Wong</td><td>3311692832</td><td>twong@tamilla.org</td></tr>",
                            "<tr><td>Bonnie</td><td>Taft</td><td>3721223292</td><td>taffygirl@signon.com</td></tr>",
                            "<tr><td>Louis</td><td>Holiday</td><td>1451223838</td><td>NULL</td></tr>",
                            "<tr><td>Bobby</td><td>Crum</td><td>1831828211</td><td>NULL</td></tr>",
                            "<tr><td>Vic</td><td>Cleaver</td><td>8111839292</td><td>NULL</td></tr>",
                            "<tr><td>Roberto</td><td>Goe</td><td>2771123943</td><td>NULL</td></tr>",
                            "<tr><td>Davis</td><td>Goodman</td><td>2771152882</td><td>goody@irvingnet.com</td></tr>",
                            "</table>"
                        ]
                    }
                }
            ],
            "execution_count": 8
        },
        {
            "cell_type": "markdown",
            "source": [
                "4\\. List the Member ID of all male members. (Members table)"
            ],
            "metadata": {
                "language": "sql",
                "azdata_cell_guid": "2d4e9483-3e5d-428e-935d-e1c3b8370d30"
            },
            "attachments": {}
        },
        {
            "cell_type": "code",
            "source": [
                "SELECT MemberID, Gender\n",
                "FROM Members\n",
                "WHERE Gender = 'm'"
            ],
            "metadata": {
                "language": "sql",
                "azdata_cell_guid": "0f884d7e-fe52-41bf-a2a8-bf2d9947938b"
            },
            "outputs": [
                {
                    "output_type": "display_data",
                    "data": {
                        "text/html": "(5 rows affected)"
                    },
                    "metadata": {}
                },
                {
                    "output_type": "display_data",
                    "data": {
                        "text/html": "Total execution time: 00:00:00.078"
                    },
                    "metadata": {}
                },
                {
                    "output_type": "execute_result",
                    "metadata": {},
                    "execution_count": 12,
                    "data": {
                        "application/vnd.dataresource+json": {
                            "schema": {
                                "fields": [
                                    {
                                        "name": "MemberID"
                                    },
                                    {
                                        "name": "Gender"
                                    }
                                ]
                            },
                            "data": [
                                {
                                    "0": "13",
                                    "1": "F"
                                },
                                {
                                    "0": "21",
                                    "1": "F"
                                },
                                {
                                    "0": "14",
                                    "1": "F"
                                },
                                {
                                    "0": "8",
                                    "1": "F"
                                },
                                {
                                    "0": "18",
                                    "1": "F"
                                }
                            ]
                        },
                        "text/html": [
                            "<table>",
                            "<tr><th>MemberID</th><th>Gender</th></tr>",
                            "<tr><td>13</td><td>F</td></tr>",
                            "<tr><td>21</td><td>F</td></tr>",
                            "<tr><td>14</td><td>F</td></tr>",
                            "<tr><td>8</td><td>F</td></tr>",
                            "<tr><td>18</td><td>F</td></tr>",
                            "</table>"
                        ]
                    }
                }
            ],
            "execution_count": 12
        },
        {
            "cell_type": "markdown",
            "source": [
                "5\\. List the Member ID and Country of all members in Canada. (Members table)"
            ],
            "metadata": {
                "language": "sql",
                "azdata_cell_guid": "702d1605-7853-4b4f-8e24-519776383f21"
            },
            "attachments": {}
        },
        {
            "cell_type": "code",
            "source": [
                "SELECT MemberID, Country \n",
                "FROM Members\n",
                "WHERE Country = 'Canada'"
            ],
            "metadata": {
                "language": "sql",
                "azdata_cell_guid": "4f2edd58-f264-4c29-a7ce-4a9b2a6ef2de"
            },
            "outputs": [
                {
                    "output_type": "display_data",
                    "data": {
                        "text/html": "(2 rows affected)"
                    },
                    "metadata": {}
                },
                {
                    "output_type": "display_data",
                    "data": {
                        "text/html": "Total execution time: 00:00:00.167"
                    },
                    "metadata": {}
                },
                {
                    "output_type": "execute_result",
                    "metadata": {},
                    "execution_count": 13,
                    "data": {
                        "application/vnd.dataresource+json": {
                            "schema": {
                                "fields": [
                                    {
                                        "name": "MemberID"
                                    },
                                    {
                                        "name": "Country"
                                    }
                                ]
                            },
                            "data": [
                                {
                                    "0": "33",
                                    "1": "Canada"
                                },
                                {
                                    "0": "26",
                                    "1": "Canada"
                                }
                            ]
                        },
                        "text/html": [
                            "<table>",
                            "<tr><th>MemberID</th><th>Country</th></tr>",
                            "<tr><td>33</td><td>Canada</td></tr>",
                            "<tr><td>26</td><td>Canada</td></tr>",
                            "</table>"
                        ]
                    }
                }
            ],
            "execution_count": 13
        }
    ]
}